{
 "cells": [
  {
   "cell_type": "code",
   "execution_count": 204,
   "metadata": {},
   "outputs": [],
   "source": [
    "import subprocess\n",
    "import json\n",
    "import os\n",
    "from constants import *\n",
    "from pprint import pprint\n",
    "from bit import PrivateKeyTestnet\n",
    "from bit.network import NetworkAPI, satoshi_to_currency\n",
    "from bit import Key\n",
    "from web3 import Web3, middleware, Account\n",
    "from web3.gas_strategies.time_based import medium_gas_price_strategy\n",
    "from web3.middleware import geth_poa_middleware"
   ]
  },
  {
   "cell_type": "code",
   "execution_count": 205,
   "metadata": {},
   "outputs": [],
   "source": [
    "w3 = Web3(Web3.HTTPProvider(\"http://127.0.0.1:8545\"))\n",
    "w3.middleware_onion.inject(geth_poa_middleware, layer=0)\n",
    "w3.eth.setGasPriceStrategy(medium_gas_price_strategy)"
   ]
  },
  {
   "cell_type": "code",
   "execution_count": 206,
   "metadata": {},
   "outputs": [],
   "source": [
    "def derive_wallets(coin):\n",
    "\n",
    "    command = f'php derive -g --mnemonic=\"number suspect draft knock desk mansion move interest lake roof offer very\" --cols=path,address,privkey,pubkey --coin={coin} --numderive=3 --format=json'\n",
    "\n",
    "    p = subprocess.Popen(command, stdout=subprocess.PIPE, shell=True)\n",
    "    (output, err) = p.communicate()\n",
    "    p_status = p.wait()\n",
    "\n",
    "    keys = json.loads(output)\n",
    "    return keys\n",
    "\n",
    "\n",
    "coins = {}\n",
    "types = [ETH, BTCTEST]\n",
    "\n",
    "for type in types:\n",
    "    coins[type] = derive_wallets(type)"
   ]
  },
  {
   "cell_type": "code",
   "execution_count": 207,
   "metadata": {},
   "outputs": [
    {
     "name": "stdout",
     "output_type": "stream",
     "text": [
      "{'path': \"m/44'/60'/0'/0/0\", 'address': '0x4303bE6A8C5E8507Ae46C5AfBB2755f93F302EF5', 'privkey': '0xb7f558a957a42fe526b521f49fb7e9fc8ba3e75764b322a3520cefa11099b23f', 'pubkey': '021c680993bb36ddab95347dc94d9c58b3a4229019ea2d9280d60bfc79b92af350'}\n"
     ]
    }
   ],
   "source": [
    "print(coins[ETH][0])\n",
    "#print(coins[ETH][1])\n",
    "#print(coins[BTCTEST][0])\n",
    "#print(coins[BTCTEST][1])"
   ]
  },
  {
   "cell_type": "code",
   "execution_count": 210,
   "metadata": {},
   "outputs": [],
   "source": [
    "def priv_key_to_account(coin, priv_key):\n",
    "    if coin == ETH:\n",
    "        obj = Account.privateKeyToAccount(priv_key)\n",
    "    if coin == BTCTEST:\n",
    "        obj = PrivateKeyTestnet(priv_key)\n",
    "    return obj\n",
    "\n",
    "def create_tx(coin, account, to, amount):\n",
    "    if coin == ETH:\n",
    "        amount = w3.toWei(amount, \"ether\")\n",
    "        gasEstimate = w3.eth.estimateGas(\n",
    "            {\"from\": account.address, \"to\": to, \"value\": amount}\n",
    "        )\n",
    "        return {\n",
    "            \"from\": account.address,\n",
    "            \"to\": to,\n",
    "            \"value\": amount,\n",
    "            \"gasPrice\": w3.eth.gasPrice,\n",
    "            \"gas\": gasEstimate,\n",
    "            \"nonce\": w3.eth.getTransactionCount(account.address),\n",
    "            #\"chainID\": w3.eth.chain_id\n",
    "        }\n",
    "    if coin == BTCTEST:\n",
    "        return PrivateKeyTestnet.prepare_transaction(account.address, [(to, amount, BTC)])\n",
    "        #PrivateKeyTestnet.prepare_transaction(account, [(to, amount, 'usd')])\n",
    "\n",
    "def send_tx(coin, account, to, amount):\n",
    "    tx = create_tx(coin, account, to, amount)\n",
    "    if coin == ETH:\n",
    "        signed_tx = account.sign_transaction(tx)\n",
    "        raw_tx = w3.eth.sendRawTransaction(signed_tx.rawTransaction)\n",
    "        return raw_tx\n",
    "    if coin == BTCTEST:\n",
    "        signed_tx = account.sign_transaction(tx, unspents=None)\n",
    "        return NetworkAPI.broadcast_tx_testnet(signed_tx)"
   ]
  },
  {
   "cell_type": "code",
   "execution_count": 202,
   "metadata": {},
   "outputs": [
    {
     "name": "stdout",
     "output_type": "stream",
     "text": [
      "{\"unspents\":[{\"amount\":1380041,\"confirmations\":0,\"script\":\"76a914868bfff5b5ec4748898e60e035c158d33ee7297688ac\",\"txid\":\"7aeee177fcdeb746e505af5a2468b68233182b3a3c3cf7bc80bb97ae8be2b017\",\"txindex\":1,\"type\":\"p2pkh\",\"vsize\":148,\"segwit\":false,\"sequence\":4294967295}],\"outputs\":[[\"mrP7RFk8x6GcHk2UdQ9KqYEbbUUeqPNhNq\",100000],[\"msnNZ7rJXQd3PSBGbPRYhYUtzfs9YiUiLU\",1256989]]}\n"
     ]
    }
   ],
   "source": [
    "coin = BTCTEST\n",
    "priv_key = coins[coin][0]['privkey']\n",
    "account = priv_key_to_account(coin, priv_key)\n",
    "to = coins[coin][1]['address']\n",
    "amount = 0.001\n",
    "\n",
    "print(create_tx(coin, account, to, amount))\n",
    "#satoshi_to_currency(NetworkAPI.get_balance_testnet(account.address), 'usd')\n",
    "send_tx(coin, account, to, amount)"
   ]
  },
  {
   "cell_type": "code",
   "execution_count": 211,
   "metadata": {},
   "outputs": [
    {
     "name": "stdout",
     "output_type": "stream",
     "text": [
      "{'from': '0x4303bE6A8C5E8507Ae46C5AfBB2755f93F302EF5', 'to': '0x1dE12D702C63176C2bE7C35434596F56c51146c2', 'value': 1000000000000000, 'gasPrice': 20000000000, 'gas': 21000, 'nonce': 8}\n"
     ]
    },
    {
     "data": {
      "text/plain": [
       "HexBytes('0x98d4cb42d00c950c0967c158bec0566121b836fbce31796cfe0c770e22569d6e')"
      ]
     },
     "execution_count": 211,
     "metadata": {},
     "output_type": "execute_result"
    }
   ],
   "source": [
    "coin = ETH\n",
    "priv_key = coins[coin][0]['privkey']\n",
    "account = priv_key_to_account(coin, priv_key)\n",
    "to = coins[coin][1]['address']\n",
    "amount = 0.001\n",
    "\n",
    "print(create_tx(coin, account, to, amount))\n",
    "send_tx(coin, account, to, amount)"
   ]
  },
  {
   "cell_type": "code",
   "execution_count": null,
   "metadata": {},
   "outputs": [],
   "source": []
  }
 ],
 "metadata": {
  "kernelspec": {
   "display_name": "ethereum",
   "language": "python",
   "name": "ethereum"
  },
  "language_info": {
   "codemirror_mode": {
    "name": "ipython",
    "version": 3
   },
   "file_extension": ".py",
   "mimetype": "text/x-python",
   "name": "python",
   "nbconvert_exporter": "python",
   "pygments_lexer": "ipython3",
   "version": "3.7.9"
  }
 },
 "nbformat": 4,
 "nbformat_minor": 4
}
